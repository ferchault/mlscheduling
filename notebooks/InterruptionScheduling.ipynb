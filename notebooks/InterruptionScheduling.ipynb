{
 "cells": [
  {
   "cell_type": "code",
   "execution_count": 2,
   "metadata": {},
   "outputs": [],
   "source": [
    "import pandas as pd\n",
    "import numpy as np\n",
    "import matplotlib.pyplot as plt\n",
    "%matplotlib inline"
   ]
  },
  {
   "cell_type": "markdown",
   "metadata": {},
   "source": [
    "## Read timings"
   ]
  },
  {
   "cell_type": "code",
   "execution_count": 3,
   "metadata": {},
   "outputs": [],
   "source": [
    "steptimes = pd.read_csv('../data/restartable/AllStepTimes', sep=' ', names='case n time'.split())\n",
    "fsizes = pd.read_csv('../data/restartable/WfuFileSizes', sep='\\s+', names='case fsize'.split())"
   ]
  },
  {
   "cell_type": "code",
   "execution_count": 10,
   "metadata": {},
   "outputs": [],
   "source": [
    "pred1 = pd.read_csv('../data/restartable/GO1_nfchl_cpu_to_wall.txt', sep=' ', names='case time pred1'.split())\n",
    "pred1.loc[pred1.pred1 < 0, 'pred1'] = pred1[pred1.pred1 > 0].median()['pred1']\n",
    "pred2 = pd.read_csv('../data/restartable/GO2_nfchl_cpu_to_wall.txt', sep=' ', names='case time pred2'.split())\n",
    "pred2.loc[pred2.pred2 < 0, 'pred2'] = pred2[pred2.pred2 > 0].median()['pred2']\n",
    "pred2.case = pred2.case.str.replace('.xyz2_ang', '')"
   ]
  },
  {
   "cell_type": "code",
   "execution_count": 11,
   "metadata": {},
   "outputs": [],
   "source": [
    "q = pd.merge(steptimes, fsizes, how='left')\n",
    "assert set(np.isnan(q.fsize.values)) == set((False,)) # fsize complete\n",
    "qq = pd.merge(q, pred1, how='left', on='case')\n",
    "#assert (qq[qq.n == 1].time_x == qq[qq.n == 1].time_y).values.all() # Heinis times equal to Max' times\n",
    "q = qq\n",
    "del q['time_y']\n",
    "qq = pd.merge(q, pred2, how='left', on='case')\n",
    "#assert (qq[qq.n == 2].time_x == qq[qq.n == 2].time).values.all() # Heinis times equal to Max' times\n",
    "del qq['time']\n",
    "qq.columns = 'case n time fsize step1 step2'.split()\n",
    "df = qq.copy()\n",
    "df = df.dropna(how='any')"
   ]
  },
  {
   "cell_type": "markdown",
   "metadata": {},
   "source": [
    "## placement"
   ]
  },
  {
   "cell_type": "code",
   "execution_count": 12,
   "metadata": {},
   "outputs": [
    {
     "data": {
      "text/plain": [
       "(3529262.8850000002, 6832562.884999999)"
      ]
     },
     "execution_count": 12,
     "metadata": {},
     "output_type": "execute_result"
    }
   ],
   "source": [
    "def simple(df, limit, diskMBps, jobQTime, jobOverhead):\n",
    "    \"\"\" Submit jobs as is, one job per molecule, restart until converged. Fallback to 1day queue if one step does not fit. \"\"\"\n",
    "    fallback = 24*60*60\n",
    "    \n",
    "    # random order\n",
    "    molecules = df.case.unique().copy()\n",
    "    np.random.shuffle(molecules)\n",
    "    \n",
    "    # estimate packages\n",
    "    walltime = 0\n",
    "    cputime = 0\n",
    "    \n",
    "    upgraded = 0\n",
    "    for molecule in molecules:\n",
    "        s = df.query('case == @molecule').sort_values('n')\n",
    "        \n",
    "        # initialise walltime limit with target limit\n",
    "        moleculelimit = limit\n",
    "        \n",
    "        remaining = moleculelimit\n",
    "        stepsinjob = 0\n",
    "        for idx, gostep in s.iterrows():\n",
    "            assert(remaining > 0)\n",
    "            if gostep.time <= remaining:\n",
    "                remaining -= gostep.time\n",
    "                stepsinjob += 1\n",
    "            else:\n",
    "                cputime += moleculelimit\n",
    "                walltime += moleculelimit + jobOverhead + jobQTime\n",
    "                remaining = moleculelimit - gostep.time\n",
    "                if gostep.n != 1:\n",
    "                    remaining -= gostep.fsize / diskMBps\n",
    "                \n",
    "                if remaining < 0:\n",
    "                    assert (moleculelimit != fallback) # otherwise, 1day is too short for longest GO step\n",
    "                    # run would not fit into current limit\n",
    "                    remaining += (fallback - limit)\n",
    "                    if stepsinjob > 1:\n",
    "                        cputime += moleculelimit\n",
    "                        walltime += moleculelimit + jobOverhead + jobQTime\n",
    "                    moleculelimit = fallback\n",
    "                stepsinjob = 1\n",
    "                    \n",
    "        cputime += (moleculelimit - remaining)\n",
    "        walltime += (moleculelimit - remaining) + jobOverhead + jobQTime\n",
    "        if moleculelimit == fallback:\n",
    "            upgraded += 1\n",
    "    if upgraded / len(molecules) > 0.25:\n",
    "        raise ValueError('Too many upgrades: %d from %d' % (upgraded, len(molecules)))\n",
    "    return cputime, walltime\n",
    "    \n",
    "simple(df, 1*60*60, 100, 60*60, 30)"
   ]
  },
  {
   "cell_type": "code",
   "execution_count": 13,
   "metadata": {},
   "outputs": [
    {
     "ename": "ValueError",
     "evalue": "Too many upgrades: 154 from 168",
     "output_type": "error",
     "traceback": [
      "\u001b[0;31m---------------------------------------------------------------------------\u001b[0m",
      "\u001b[0;31mValueError\u001b[0m                                Traceback (most recent call last)",
      "\u001b[0;32m<ipython-input-13-cca13dbd108e>\u001b[0m in \u001b[0;36m<module>\u001b[0;34m\u001b[0m\n\u001b[1;32m     73\u001b[0m \u001b[0;34m\u001b[0m\u001b[0m\n\u001b[1;32m     74\u001b[0m \u001b[0;34m\u001b[0m\u001b[0m\n\u001b[0;32m---> 75\u001b[0;31m \u001b[0mml\u001b[0m\u001b[0;34m(\u001b[0m\u001b[0mdf\u001b[0m\u001b[0;34m,\u001b[0m \u001b[0;36m1\u001b[0m\u001b[0;34m*\u001b[0m\u001b[0;36m60\u001b[0m\u001b[0;34m*\u001b[0m\u001b[0;36m60\u001b[0m\u001b[0;34m,\u001b[0m \u001b[0;36m100\u001b[0m\u001b[0;34m,\u001b[0m \u001b[0;36m60\u001b[0m\u001b[0;34m*\u001b[0m\u001b[0;36m60\u001b[0m\u001b[0;34m,\u001b[0m \u001b[0;36m30\u001b[0m\u001b[0;34m)\u001b[0m\u001b[0;34m\u001b[0m\u001b[0;34m\u001b[0m\u001b[0m\n\u001b[0m",
      "\u001b[0;32m<ipython-input-13-cca13dbd108e>\u001b[0m in \u001b[0;36mml\u001b[0;34m(df, limit, diskMBps, jobQTime, jobOverhead)\u001b[0m\n\u001b[1;32m     69\u001b[0m             \u001b[0mupgraded\u001b[0m \u001b[0;34m+=\u001b[0m \u001b[0;36m1\u001b[0m\u001b[0;34m\u001b[0m\u001b[0;34m\u001b[0m\u001b[0m\n\u001b[1;32m     70\u001b[0m     \u001b[0;32mif\u001b[0m \u001b[0mupgraded\u001b[0m \u001b[0;34m/\u001b[0m \u001b[0mlen\u001b[0m\u001b[0;34m(\u001b[0m\u001b[0mmolecules\u001b[0m\u001b[0;34m)\u001b[0m \u001b[0;34m>\u001b[0m \u001b[0;36m0.25\u001b[0m\u001b[0;34m:\u001b[0m\u001b[0;34m\u001b[0m\u001b[0;34m\u001b[0m\u001b[0m\n\u001b[0;32m---> 71\u001b[0;31m         \u001b[0;32mraise\u001b[0m \u001b[0mValueError\u001b[0m\u001b[0;34m(\u001b[0m\u001b[0;34m'Too many upgrades: %d from %d'\u001b[0m \u001b[0;34m%\u001b[0m \u001b[0;34m(\u001b[0m\u001b[0mupgraded\u001b[0m\u001b[0;34m,\u001b[0m \u001b[0mlen\u001b[0m\u001b[0;34m(\u001b[0m\u001b[0mmolecules\u001b[0m\u001b[0;34m)\u001b[0m\u001b[0;34m)\u001b[0m\u001b[0;34m)\u001b[0m\u001b[0;34m\u001b[0m\u001b[0;34m\u001b[0m\u001b[0m\n\u001b[0m\u001b[1;32m     72\u001b[0m     \u001b[0;32mreturn\u001b[0m \u001b[0mcputime\u001b[0m\u001b[0;34m,\u001b[0m \u001b[0mwalltime\u001b[0m\u001b[0;34m\u001b[0m\u001b[0;34m\u001b[0m\u001b[0m\n\u001b[1;32m     73\u001b[0m \u001b[0;34m\u001b[0m\u001b[0m\n",
      "\u001b[0;31mValueError\u001b[0m: Too many upgrades: 154 from 168"
     ]
    }
   ],
   "source": [
    "def ml(df, limit, diskMBps, jobQTime, jobOverhead):\n",
    "    \"\"\" Use 2nd step pred to estimate continuation. \"\"\"\n",
    "    fallback = 24*60*60\n",
    "    \n",
    "    # order by largest first step\n",
    "    molecules = df.copy().sort_values('step1').case.unique()\n",
    "    \n",
    "    # estimate packages\n",
    "    walltime = 0\n",
    "    cputime = 0\n",
    "    \n",
    "    upgraded = 0\n",
    "    for molidx, molecule in enumerate(molecules):\n",
    "        s = df.query('case == @molecule').sort_values('n')\n",
    "        \n",
    "        moleculelimit = limit\n",
    "        \n",
    "        remaining = moleculelimit\n",
    "        for idx, gostep in s.iterrows():\n",
    "            assert(remaining >= 0)\n",
    "            if gostep.n == 1 and gostep.step1 > limit:\n",
    "                moleculelimit = fallback\n",
    "                remaining = moleculelimit\n",
    "            \n",
    "            predtime = gostep.step2\n",
    "            if gostep.n == 1:\n",
    "                predtime = gostep.step1\n",
    "            \n",
    "            if predtime > remaining:\n",
    "                # restart due to estimate\n",
    "                cputime += moleculelimit - remaining\n",
    "                walltime += (moleculelimit - remaining) + jobOverhead + jobQTime\n",
    "                \n",
    "                # check whether upgrade is required\n",
    "                remaining = moleculelimit - gostep.fsize / diskMBps - predtime\n",
    "                if remaining < 0:\n",
    "                    moleculelimit = fallback\n",
    "                \n",
    "                remaining = moleculelimit - gostep.fsize / diskMBps - gostep.time\n",
    "                if remaining < 0:\n",
    "                    assert (moleculelimit != fallback)\n",
    "                    remaining += fallback - limit\n",
    "                    cputime += moleculelimit\n",
    "                    walltime += moleculelimit + jobOverhead + jobQTime\n",
    "                    moleculelimit = fallback\n",
    "                continue\n",
    "            if gostep.time > remaining:\n",
    "                # restart due to limit\n",
    "                cputime += moleculelimit\n",
    "                walltime += moleculelimit + jobOverhead + jobQTime\n",
    "                remaining = moleculelimit - gostep.fsize / diskMBps - predtime\n",
    "                if remaining < 0:\n",
    "                    assert(moleculelimit != fallback)\n",
    "                    moleculelimit = fallback\n",
    "                remaining = moleculelimit - gostep.fsize / diskMBps - gostep.time\n",
    "                if remaining < 0:\n",
    "                    assert(moleculelimit != fallback)\n",
    "                    remaining += fallback - limit\n",
    "                    cputime += moleculelimit\n",
    "                    walltime += moleculelimit + jobOverhead + jobQTime\n",
    "                    moleculelimit = fallback\n",
    "                continue\n",
    "            \n",
    "            remaining -= gostep.time\n",
    "            \n",
    "        cputime += (moleculelimit - remaining)\n",
    "        walltime += (moleculelimit - remaining) + jobOverhead + jobQTime\n",
    "        if moleculelimit == fallback:\n",
    "            upgraded += 1\n",
    "    if upgraded / len(molecules) > 0.25:\n",
    "        raise ValueError('Too many upgrades: %d from %d' % (upgraded, len(molecules)))\n",
    "    return cputime, walltime\n",
    "                \n",
    "    \n",
    "ml(df, 1*60*60, 100, 60*60, 30)"
   ]
  },
  {
   "cell_type": "markdown",
   "metadata": {},
   "source": [
    "## visualisation"
   ]
  },
  {
   "cell_type": "code",
   "execution_count": 14,
   "metadata": {},
   "outputs": [],
   "source": [
    "ideal_cpu = df.time.sum()\n",
    "limits = np.linspace(0.2, 12, 10)*60*60\n",
    "DISK_SPEED = 1000\n",
    "QUEUEING_TIME = 60*60\n",
    "JOB_OVERHEAD = 30\n",
    "\n",
    "visdata = []\n",
    "methods = {'simple': simple, 'ml': ml}\n",
    "for limit in limits:\n",
    "    for methodname, methodfunc in methods.items():\n",
    "        try:\n",
    "            q = methodfunc(df, limit, DISK_SPEED, QUEUEING_TIME, JOB_OVERHEAD)\n",
    "        except:\n",
    "            continue\n",
    "        visdata.append({'method': methodname, 'cputime': q[0], 'walltime': q[1], 'limit': limit})\n",
    "visdata = pd.DataFrame(visdata)"
   ]
  },
  {
   "cell_type": "code",
   "execution_count": 15,
   "metadata": {},
   "outputs": [
    {
     "data": {
      "text/plain": [
       "Text(0, 0.5, 'CPU Time overhead [%s]')"
      ]
     },
     "execution_count": 15,
     "metadata": {},
     "output_type": "execute_result"
    },
    {
     "data": {
      "image/png": "[encoded data removed]",
      "text/plain": [
       "<Figure size 720x360 with 2 Axes>"
      ]
     },
     "metadata": {
      "needs_background": "light"
     },
     "output_type": "display_data"
    }
   ],
   "source": [
    "# medium disk\n",
    "ideal_cpu = df.time.sum()\n",
    "fig, axs = plt.subplots(1, 2, sharex=True, figsize=(10, 5))\n",
    "cpuplot, wallplot = axs\n",
    "for name, group in visdata.groupby('method'):\n",
    "    cpuplot.plot(group.limit/60/60, ((group.cputime/ideal_cpu)-1)*100, label=name)\n",
    "relative = visdata.pivot(columns='method', index='limit', values='walltime').reset_index()\n",
    "for method in sorted(methods.keys()):\n",
    "    wallplot.plot(relative.limit/60/60, ((relative[method] / relative['ml'])-1)*100, label=method)\n",
    "cpuplot.legend()\n",
    "wallplot.legend()\n",
    "wallplot.set_ylabel('Wall Time overhead [%]')\n",
    "cpuplot.set_ylabel('CPU Time overhead [%s]')"
   ]
  },
  {
   "cell_type": "markdown",
   "metadata": {},
   "source": [
    "### Parallel workers"
   ]
  },
  {
   "cell_type": "code",
   "execution_count": 16,
   "metadata": {},
   "outputs": [],
   "source": [
    "class Worker(object):\n",
    "    \"\"\" One allocatable performing one job.\"\"\"\n",
    "    def __init__(self, limit, fallback, diskMBps, jobQTime, jobOverhead, decider):\n",
    "        self._cputime = 0\n",
    "        self._walltime = 0\n",
    "        self._limit = limit\n",
    "        self._fallback = fallback\n",
    "        self._disk = diskMBps\n",
    "        self._jobQ = jobQTime\n",
    "        self._jobS = jobOverhead\n",
    "        self._decider = decider\n",
    "    \n",
    "    def next_molecule_at(self):\n",
    "        return self._walltime + self._cputime\n",
    "    \n",
    "    @staticmethod\n",
    "    def simple(gostep, queue, remaining, attempt):\n",
    "        if attempt == 1:\n",
    "            return queue\n",
    "        if attempt == 2:\n",
    "            return queue\n",
    "        if attempt == 3:\n",
    "            return 'long'\n",
    "    \n",
    "    @staticmethod\n",
    "    def ml(gostep, queue, remaining, attempt):\n",
    "        if gostep.n == 1:\n",
    "            if gostep.step1 > remaining:\n",
    "                return 'long'\n",
    "            else:\n",
    "                if attempt == 1:\n",
    "                    return queue\n",
    "                else:\n",
    "                    return 'long'\n",
    "        assert (gostep.n != 1)\n",
    "        \n",
    "        if gostep.step2 > remaining:\n",
    "            if attempt == 1:\n",
    "                return 'restart'\n",
    "            else:\n",
    "                return 'long'\n",
    "        else:\n",
    "            return queue\n",
    "    \n",
    "    def _place_step(self, gostep, remaining, queue, restart, attempt):\n",
    "        planned_on = self._decider(gostep, queue, remaining, attempt)\n",
    "        \n",
    "        if planned_on == 'restart':\n",
    "            restart = True\n",
    "            planned_on = queue\n",
    "\n",
    "        if planned_on != queue:\n",
    "            # decider wants to upgrade\n",
    "            restart = True\n",
    "\n",
    "        if restart:\n",
    "            # start a new job with this step\n",
    "            restart = False\n",
    "            self._walltime += self._jobQ\n",
    "            self._cputime += self._jobS\n",
    "\n",
    "            # IO component of restart\n",
    "            readwfntime = 0\n",
    "            if gostep.n != 1:\n",
    "                readwfntime = gostep.fsize / self._disk\n",
    "                self._cputime += readwfntime\n",
    "\n",
    "            queue = planned_on\n",
    "            if queue == 'short':\n",
    "                remaining = self._limit\n",
    "            else:\n",
    "                remaining = self._fallback\n",
    "            remaining -= readwfntime\n",
    "\n",
    "        if gostep.time < remaining:\n",
    "            remaining -= gostep.time\n",
    "            self._cputime += gostep.time\n",
    "            return True, remaining, queue, restart\n",
    "        else:\n",
    "            self._cputime += remaining\n",
    "            remaining = 0\n",
    "            restart = True\n",
    "            return False, remaining, queue, restart\n",
    "    \n",
    "    def start_molecule(self, stepdata):\n",
    "        restart = True\n",
    "        queue = 'short'\n",
    "        remaining = self._limit\n",
    "        self._stepcount = 0\n",
    "        for _, gostep in stepdata.iterrows():\n",
    "            success, remaining, queue, restart = self._place_step(gostep, remaining, queue, restart, attempt=1)\n",
    "            if not success:\n",
    "                success, remaining, queue, restart = self._place_step(gostep, remaining, queue, restart, attempt=2)\n",
    "            if not success:\n",
    "                success, remaining, queue, restart = self._place_step(gostep, remaining, queue, restart, attempt=3)\n",
    "            assert(success)\n",
    "        return queue\n",
    "    \n",
    "    def total_cputime(self):\n",
    "        return self._cputime\n",
    "\n",
    "def do_run(hours, decider):\n",
    "    workers = [Worker(hours*60*60, 24*60*60, DISK_SPEED, QUEUEING_TIME, JOB_OVERHEAD, decider) for _ in range(NUMWORKERS)]\n",
    "    queues = []\n",
    "    for molecule in df.case.unique():\n",
    "        nextworker = min(workers, key=lambda x: x.next_molecule_at())\n",
    "        queues.append(nextworker.start_molecule(df.query('case == @molecule')))\n",
    "    \n",
    "    #if len([_ for _ in queues if _ == 'long']) / len(queues) > 0.25:\n",
    "    #    raise ValueError('Too many upgrades.')\n",
    "    walltime = max([_.next_molecule_at() for _ in workers])\n",
    "    cputime = sum([_.total_cputime() for _ in workers])\n",
    "    return cputime, walltime, len([_ for _ in queues if _ == 'long']), len([_ for _ in queues if _ == 'short'])"
   ]
  },
  {
   "cell_type": "code",
   "execution_count": 31,
   "metadata": {},
   "outputs": [],
   "source": [
    "ideal_cpu = df.time.sum()\n",
    "limits = (1, 6, 12, 24)\n",
    "DISK_SPEED = 1000\n",
    "QUEUEING_TIME = 60*60\n",
    "JOB_OVERHEAD = 30\n",
    "NUMWORKERS = 10\n",
    "\n",
    "visdata = []\n",
    "methods = {'simple': Worker.simple, 'ml': Worker.ml}\n",
    "for NUMWORKERS in (1, 4, 8, 16,):\n",
    "    for limit in limits:\n",
    "        for methodname, methodfunc in methods.items():\n",
    "            try:\n",
    "                q = do_run(limit, methodfunc)\n",
    "            except:\n",
    "                continue\n",
    "            visdata.append({'method': methodname, 'cputime': q[0], 'walltime': q[1], 'limit': limit, 'longs': q[2], 'shorts': q[3], 'workers': NUMWORKERS})\n",
    "visdata = pd.DataFrame(visdata)"
   ]
  },
  {
   "cell_type": "code",
   "execution_count": 35,
   "metadata": {},
   "outputs": [
    {
     "data": {
      "image/png": "[encoded data removed]",
      "text/plain": [
       "<Figure size 432x216 with 3 Axes>"
      ]
     },
     "metadata": {
      "needs_background": "light"
     },
     "output_type": "display_data"
    }
   ],
   "source": [
    "ideal_cpu = df.time.sum()\n",
    "fig, axs = plt.subplots(1, 2, sharex=True, figsize=(6, 3))\n",
    "cpuplot, wallplot = axs\n",
    "for name, group in visdata.query('workers == 4.').groupby('method'):\n",
    "    cpuplot.plot(group.limit, ((group.cputime/ideal_cpu)-1)*100, label={'ml': 'ML', 'simple': 'simple'}[name])\n",
    "for workers in visdata.workers.unique():\n",
    "    relative = visdata.query('workers == @workers').pivot(columns='method', index='limit', values='walltime').reset_index()\n",
    "    if workers > 20:\n",
    "        continue\n",
    "    for method in sorted(methods.keys()):\n",
    "        if method == 'ml':\n",
    "            continue\n",
    "        if workers > 1:\n",
    "            pl = 's'\n",
    "        else:\n",
    "            pl = ''\n",
    "        wallplot.plot(relative.limit, (relative[method] / relative['ml']), label='%d core%s' % (workers, pl))\n",
    "cpuplot.legend()\n",
    "wallplot.legend()\n",
    "wallplot.set_ylabel('Walltime / ML Walltime', fontsize=15)\n",
    "cpuplot.set_ylabel('CPU Time Overhead [%]', fontsize=15)\n",
    "cpuplot.set_xlabel('Walltime Limit [h]', fontsize=15)\n",
    "wallplot.set_xlabel('Walltime Limit [h]', fontsize=15)\n",
    "cpuplot.set_ylim(0,17)\n",
    "wallplot.set_ylim(0.9,1.1)\n",
    "wallplot.set_yticks([])\n",
    "ax2 = wallplot.twinx()\n",
    "ax2.set_ylim(0.9, 1.1)\n",
    "ax2.set_yticks([0.9, 1.0, 1.1])\n",
    "cpuplot.set_yticks([0, 5, 10, 15])\n",
    "wallplot.tick_params('both', labelsize=15)\n",
    "cpuplot.tick_params('both', labelsize=15)\n",
    "ax2.tick_params('both', labelsize=15)\n",
    "plt.tight_layout()\n",
    "plt.savefig('gostepscheduling.pdf')"
   ]
  },
  {
   "cell_type": "code",
   "execution_count": 73,
   "metadata": {},
   "outputs": [
    {
     "name": "stdout",
     "output_type": "stream",
     "text": [
      "ml\n",
      "9     1.015798\n",
      "11    1.006143\n",
      "13    1.001786\n",
      "15    1.001671\n",
      "Name: cputime, dtype: float64\n",
      "simple\n",
      "8     1.160623\n",
      "10    1.017985\n",
      "12    1.002869\n",
      "14    1.001671\n",
      "Name: cputime, dtype: float64\n"
     ]
    }
   ],
   "source": [
    "for name, group in visdata.query('workers == 4.').groupby('method'):\n",
    "    print (name)\n",
    "    print (group.cputime/ideal_cpu)"
   ]
  },
  {
   "cell_type": "markdown",
   "metadata": {},
   "source": [
    "### scaling of estimate"
   ]
  },
  {
   "cell_type": "code",
   "execution_count": 37,
   "metadata": {},
   "outputs": [],
   "source": [
    "def mlscaled(gostep, queue, remaining, attempt, scale):\n",
    "    if gostep.n == 1:\n",
    "        if gostep.step1*scale > remaining:\n",
    "            return 'long'\n",
    "        else:\n",
    "            if attempt == 1:\n",
    "                return queue\n",
    "            else:\n",
    "                return 'long'\n",
    "    assert (gostep.n != 1)\n",
    "\n",
    "    if gostep.step2*scale > remaining:\n",
    "        if attempt == 1:\n",
    "            return 'restart'\n",
    "        else:\n",
    "            return 'long'\n",
    "    else:\n",
    "        return queue"
   ]
  },
  {
   "cell_type": "code",
   "execution_count": 62,
   "metadata": {},
   "outputs": [],
   "source": [
    "scaledata = []\n",
    "NUMWORKERS = 4\n",
    "for scale in np.arange(0.2, 5, 0.2):\n",
    "    try:\n",
    "        q = do_run(4, lambda g, q, r, a: mlscaled(g, q, r, a, scale))\n",
    "    except:\n",
    "        continue\n",
    "    scaledata.append({'scale': scale, 'cputime': q[0], 'walltime': q[1], 'longs': q[2], 'shorts': q[3]})\n",
    "scaledata = pd.DataFrame(scaledata)"
   ]
  },
  {
   "cell_type": "code",
   "execution_count": 63,
   "metadata": {},
   "outputs": [
    {
     "data": {
      "text/plain": [
       "<matplotlib.legend.Legend at 0x7fab07c902b0>"
      ]
     },
     "execution_count": 63,
     "metadata": {},
     "output_type": "execute_result"
    },
    {
     "data": {
      "image/png": "[encoded data removed]",
      "text/plain": [
       "<Figure size 432x288 with 1 Axes>"
      ]
     },
     "metadata": {
      "needs_background": "light"
     },
     "output_type": "display_data"
    }
   ],
   "source": [
    "plt.plot(scaledata.scale, ((scaledata.cputime / scaledata.query('abs(scale-1.0) < 0.001').cputime.values[0])-1)*100, label='CPU')\n",
    "plt.plot(scaledata.scale, ((scaledata.walltime / scaledata.query('abs(scale-1.0) < 0.001').walltime.values[0])-1)*100, label='WALL')\n",
    "plt.axvline(x=1, color='lightgrey')\n",
    "plt.xlabel('Scaling of time estimates')\n",
    "plt.ylabel('% change relative to scale=1')\n",
    "plt.legend()"
   ]
  },
  {
   "cell_type": "code",
   "execution_count": 54,
   "metadata": {},
   "outputs": [
    {
     "data": {
      "text/html": [
       "<div>\n",
       "<style scoped>\n",
       "    .dataframe tbody tr th:only-of-type {\n",
       "        vertical-align: middle;\n",
       "    }\n",
       "\n",
       "    .dataframe tbody tr th {\n",
       "        vertical-align: top;\n",
       "    }\n",
       "\n",
       "    .dataframe thead th {\n",
       "        text-align: right;\n",
       "    }\n",
       "</style>\n",
       "<table border=\"1\" class=\"dataframe\">\n",
       "  <thead>\n",
       "    <tr style=\"text-align: right;\">\n",
       "      <th></th>\n",
       "      <th>cputime</th>\n",
       "      <th>longs</th>\n",
       "      <th>scale</th>\n",
       "      <th>shorts</th>\n",
       "      <th>walltime</th>\n",
       "    </tr>\n",
       "  </thead>\n",
       "  <tbody>\n",
       "    <tr>\n",
       "      <th>3</th>\n",
       "      <td>3.042116e+06</td>\n",
       "      <td>12</td>\n",
       "      <td>1.0</td>\n",
       "      <td>156</td>\n",
       "      <td>1.139225e+06</td>\n",
       "    </tr>\n",
       "  </tbody>\n",
       "</table>\n",
       "</div>"
      ],
      "text/plain": [
       "        cputime  longs  scale  shorts      walltime\n",
       "3  3.042116e+06     12    1.0     156  1.139225e+06"
      ]
     },
     "execution_count": 54,
     "metadata": {},
     "output_type": "execute_result"
    }
   ],
   "source": [
    "scaledata.query('abs(scale-1.0) < 0.001')"
   ]
  },
  {
   "cell_type": "code",
   "execution_count": null,
   "metadata": {},
   "outputs": [],
   "source": []
  }
 ],
 "metadata": {
  "kernelspec": {
   "display_name": "Python [conda env:analysis]",
   "language": "python",
   "name": "conda-env-analysis-py"
  },
  "language_info": {
   "codemirror_mode": {
    "name": "ipython",
    "version": 3
   },
   "file_extension": ".py",
   "mimetype": "text/x-python",
   "name": "python",
   "nbconvert_exporter": "python",
   "pygments_lexer": "ipython3",
   "version": "3.6.8"
  }
 },
 "nbformat": 4,
 "nbformat_minor": 2
}
